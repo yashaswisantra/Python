{
  "nbformat": 4,
  "nbformat_minor": 0,
  "metadata": {
    "colab": {
      "provenance": []
    },
    "kernelspec": {
      "name": "python3",
      "display_name": "Python 3"
    },
    "language_info": {
      "name": "python"
    }
  },
  "cells": [
    {
      "cell_type": "markdown",
      "source": [
        "# **Section 1**"
      ],
      "metadata": {
        "id": "v2itmjlzauA4"
      }
    },
    {
      "cell_type": "code",
      "source": [
        "#@markdown ### **Just execute this code cell by simply clicking the button ▶ to generate the dataset to be used in this assessment. The dataset is saved as df.**\n",
        "\n",
        "#@markdown ---\n",
        "\n",
        "\"\"\"\n",
        "#@markdown ## **Student Information Dataset**\n",
        "\n",
        "\n",
        "#@markdown This dataset is a synthetic collection of student information designed for this assesment\n",
        "#@markdown It simulates various attributes related to students in a hypothetical study conducted on them.\n",
        "#@markdown The dataset includes the following attributes:\n",
        "\n",
        "#@markdown 1. **Name:** The name of the student.\n",
        "#@markdown 2. **Class:** The class or grade that the student belongs to (e.g., \"6\", \"7\", \"8\", \"9\", \"10\").\n",
        "#@markdown 3. **Math Marks:** The student's marks in a mathematics subject (range: 50-100).\n",
        "#@markdown 4. **Science Marks:** The student's marks in a science subject (range: 50-100).\n",
        "#@markdown 5. **Age:** The age of the student (range: 15-18).\n",
        "#@markdown 6. **Temperature:** The student's body temperature in Celsius (range: 36.0-37.5).\n",
        "#@markdown 7. **Stress Level:** A simulated stress level on a scale of 1 to 10.\n",
        "#@markdown 8. **Heart Rate:** The student's heart rate in beats per minute (bpm).\n",
        "#@markdown 9. **Nervous:** Whether the student is feeling nervous or not (True/False).\n",
        "#@markdown 10. **On Medication:** Whether the student is on medication or not (True/False).\n",
        "#@markdown 11. **Medication Name:** The name of the medication the student is taking (if on medication) or \"None\" (if not on medication).\n",
        "\n",
        "\"\"\"\n",
        "\n",
        "# Install the Faker library if not already installed\n",
        "!pip install Faker\n",
        "from IPython.display import clear_output\n",
        "clear_output()\n",
        "# Import libraries\n",
        "import random\n",
        "import pandas as pd\n",
        "from faker import Faker\n",
        "\n",
        "\n",
        "# Create a Faker instance to generate fake student names\n",
        "fake = Faker()\n",
        "\n",
        "# Define class names\n",
        "classes = [\"6\", \"7\", \"8\", \"9\", \"10\"]\n",
        "\n",
        "# Common medications list\n",
        "common_medications = [\n",
        "    \"Acetaminophen\",\n",
        "    \"Ibuprofen\",\n",
        "    \"Aspirin\",\n",
        "    \"Caffeine\",\n",
        "    \"Antacid\",\n",
        "    \"Antihistamine\",\n",
        "    \"Cough Syrup\",\n",
        "    \"Decongestant\",\n",
        "    \"Vitamin C\",\n",
        "    \"Multivitamin\",\n",
        "    \"Antibiotics\",\n",
        "    \"Antidepressants\",\n",
        "    \"Anti-Anxiety Medication\",\n",
        "    \"Sleep Aid\",\n",
        "    \"Pain Reliever Cream\",\n",
        "    \"Allergy Medication\",\n",
        "    \"Cough Drops\",\n",
        "    \"Hydrocortisone Cream\",\n",
        "    \"Eye Drops\",\n",
        "    \"None\"\n",
        "]\n",
        "\n",
        "\n",
        "# Generate dataset\n",
        "dataset = []\n",
        "for _ in range(100):\n",
        "    first_name = fake.first_name()\n",
        "    last_name = fake.last_name()\n",
        "    class_name = random.choice(classes)\n",
        "    marks_math = random.randint(50, 100)\n",
        "    marks_science = random.randint(50, 100)\n",
        "    age = random.randint(15, 18)\n",
        "    temperature = round(random.uniform(36.0, 37.5), 1)  # Temperature in Celsius\n",
        "    stress_level = random.randint(1, 10)  # Stress level on a scale of 1 to 10\n",
        "    heart_rate = random.randint(60, 100)  # Heart rate in bpm\n",
        "    nervous = random.choice([True, False])  # Whether the student is nervous or not\n",
        "    on_medication = random.choice([True, False])  # Whether the student is on medication or not\n",
        "\n",
        "    if on_medication:\n",
        "        medication_name = random.choice(common_medications)  # Generate a fake medication name\n",
        "    else:\n",
        "        medication_name = None\n",
        "\n",
        "    dataset.append([first_name, last_name, class_name, marks_math, marks_science, age, temperature, stress_level, heart_rate, nervous, on_medication, medication_name])\n",
        "\n",
        "# Convert the dataset into a pandas DataFrame\n",
        "columns = ['FirstName', 'LastName', 'Class', 'MathMarks', 'ScienceMarks', 'Age', 'Temperature', 'StressLevel', 'HeartRate', 'Nervous', 'OnMedication', 'MedicationName']\n",
        "df = pd.DataFrame(dataset, columns=columns)\n",
        "\n",
        "# randomly change elemnts of Firtname column to lowercase\n",
        "df['FirstName'] = df['FirstName'].apply(lambda x: x.lower() if random.randint(0,1) else x)\n",
        "\n",
        "# same for lastname\n",
        "df['LastName'] = df['LastName'].apply(lambda x: x.lower() if random.randint(0,1) else x)\n",
        "\n",
        "# Display the first few rows of the DataFrame\n",
        "df.head()"
      ],
      "metadata": {
        "colab": {
          "base_uri": "https://localhost:8080/",
          "height": 206
        },
        "cellView": "form",
        "id": "c9igZvuRfZbO",
        "outputId": "037c8206-7750-4ece-caf2-3a515e73b280"
      },
      "execution_count": 1,
      "outputs": [
        {
          "output_type": "execute_result",
          "data": {
            "text/plain": [
              "  FirstName LastName Class  MathMarks  ScienceMarks  Age  Temperature  \\\n",
              "0     David     dunn    10         91            62   17         36.5   \n",
              "1     brian   Miller     8         66            94   16         37.2   \n",
              "2     steve   harper     6         93            67   18         37.2   \n",
              "3     Caleb    quinn     9         68            74   15         37.0   \n",
              "4   william   Thomas     8         92            99   16         36.5   \n",
              "\n",
              "   StressLevel  HeartRate  Nervous  OnMedication   MedicationName  \n",
              "0           10         84     True          True        Eye Drops  \n",
              "1           10         74    False          True        Eye Drops  \n",
              "2           10         80     True         False             None  \n",
              "3            1         88    False          True  Antidepressants  \n",
              "4           10         92    False          True      Cough Drops  "
            ],
            "text/html": [
              "\n",
              "  <div id=\"df-d052bf90-26e5-4608-b67e-5725ceee0049\" class=\"colab-df-container\">\n",
              "    <div>\n",
              "<style scoped>\n",
              "    .dataframe tbody tr th:only-of-type {\n",
              "        vertical-align: middle;\n",
              "    }\n",
              "\n",
              "    .dataframe tbody tr th {\n",
              "        vertical-align: top;\n",
              "    }\n",
              "\n",
              "    .dataframe thead th {\n",
              "        text-align: right;\n",
              "    }\n",
              "</style>\n",
              "<table border=\"1\" class=\"dataframe\">\n",
              "  <thead>\n",
              "    <tr style=\"text-align: right;\">\n",
              "      <th></th>\n",
              "      <th>FirstName</th>\n",
              "      <th>LastName</th>\n",
              "      <th>Class</th>\n",
              "      <th>MathMarks</th>\n",
              "      <th>ScienceMarks</th>\n",
              "      <th>Age</th>\n",
              "      <th>Temperature</th>\n",
              "      <th>StressLevel</th>\n",
              "      <th>HeartRate</th>\n",
              "      <th>Nervous</th>\n",
              "      <th>OnMedication</th>\n",
              "      <th>MedicationName</th>\n",
              "    </tr>\n",
              "  </thead>\n",
              "  <tbody>\n",
              "    <tr>\n",
              "      <th>0</th>\n",
              "      <td>David</td>\n",
              "      <td>dunn</td>\n",
              "      <td>10</td>\n",
              "      <td>91</td>\n",
              "      <td>62</td>\n",
              "      <td>17</td>\n",
              "      <td>36.5</td>\n",
              "      <td>10</td>\n",
              "      <td>84</td>\n",
              "      <td>True</td>\n",
              "      <td>True</td>\n",
              "      <td>Eye Drops</td>\n",
              "    </tr>\n",
              "    <tr>\n",
              "      <th>1</th>\n",
              "      <td>brian</td>\n",
              "      <td>Miller</td>\n",
              "      <td>8</td>\n",
              "      <td>66</td>\n",
              "      <td>94</td>\n",
              "      <td>16</td>\n",
              "      <td>37.2</td>\n",
              "      <td>10</td>\n",
              "      <td>74</td>\n",
              "      <td>False</td>\n",
              "      <td>True</td>\n",
              "      <td>Eye Drops</td>\n",
              "    </tr>\n",
              "    <tr>\n",
              "      <th>2</th>\n",
              "      <td>steve</td>\n",
              "      <td>harper</td>\n",
              "      <td>6</td>\n",
              "      <td>93</td>\n",
              "      <td>67</td>\n",
              "      <td>18</td>\n",
              "      <td>37.2</td>\n",
              "      <td>10</td>\n",
              "      <td>80</td>\n",
              "      <td>True</td>\n",
              "      <td>False</td>\n",
              "      <td>None</td>\n",
              "    </tr>\n",
              "    <tr>\n",
              "      <th>3</th>\n",
              "      <td>Caleb</td>\n",
              "      <td>quinn</td>\n",
              "      <td>9</td>\n",
              "      <td>68</td>\n",
              "      <td>74</td>\n",
              "      <td>15</td>\n",
              "      <td>37.0</td>\n",
              "      <td>1</td>\n",
              "      <td>88</td>\n",
              "      <td>False</td>\n",
              "      <td>True</td>\n",
              "      <td>Antidepressants</td>\n",
              "    </tr>\n",
              "    <tr>\n",
              "      <th>4</th>\n",
              "      <td>william</td>\n",
              "      <td>Thomas</td>\n",
              "      <td>8</td>\n",
              "      <td>92</td>\n",
              "      <td>99</td>\n",
              "      <td>16</td>\n",
              "      <td>36.5</td>\n",
              "      <td>10</td>\n",
              "      <td>92</td>\n",
              "      <td>False</td>\n",
              "      <td>True</td>\n",
              "      <td>Cough Drops</td>\n",
              "    </tr>\n",
              "  </tbody>\n",
              "</table>\n",
              "</div>\n",
              "    <div class=\"colab-df-buttons\">\n",
              "\n",
              "  <div class=\"colab-df-container\">\n",
              "    <button class=\"colab-df-convert\" onclick=\"convertToInteractive('df-d052bf90-26e5-4608-b67e-5725ceee0049')\"\n",
              "            title=\"Convert this dataframe to an interactive table.\"\n",
              "            style=\"display:none;\">\n",
              "\n",
              "  <svg xmlns=\"http://www.w3.org/2000/svg\" height=\"24px\" viewBox=\"0 -960 960 960\">\n",
              "    <path d=\"M120-120v-720h720v720H120Zm60-500h600v-160H180v160Zm220 220h160v-160H400v160Zm0 220h160v-160H400v160ZM180-400h160v-160H180v160Zm440 0h160v-160H620v160ZM180-180h160v-160H180v160Zm440 0h160v-160H620v160Z\"/>\n",
              "  </svg>\n",
              "    </button>\n",
              "\n",
              "  <style>\n",
              "    .colab-df-container {\n",
              "      display:flex;\n",
              "      gap: 12px;\n",
              "    }\n",
              "\n",
              "    .colab-df-convert {\n",
              "      background-color: #E8F0FE;\n",
              "      border: none;\n",
              "      border-radius: 50%;\n",
              "      cursor: pointer;\n",
              "      display: none;\n",
              "      fill: #1967D2;\n",
              "      height: 32px;\n",
              "      padding: 0 0 0 0;\n",
              "      width: 32px;\n",
              "    }\n",
              "\n",
              "    .colab-df-convert:hover {\n",
              "      background-color: #E2EBFA;\n",
              "      box-shadow: 0px 1px 2px rgba(60, 64, 67, 0.3), 0px 1px 3px 1px rgba(60, 64, 67, 0.15);\n",
              "      fill: #174EA6;\n",
              "    }\n",
              "\n",
              "    .colab-df-buttons div {\n",
              "      margin-bottom: 4px;\n",
              "    }\n",
              "\n",
              "    [theme=dark] .colab-df-convert {\n",
              "      background-color: #3B4455;\n",
              "      fill: #D2E3FC;\n",
              "    }\n",
              "\n",
              "    [theme=dark] .colab-df-convert:hover {\n",
              "      background-color: #434B5C;\n",
              "      box-shadow: 0px 1px 3px 1px rgba(0, 0, 0, 0.15);\n",
              "      filter: drop-shadow(0px 1px 2px rgba(0, 0, 0, 0.3));\n",
              "      fill: #FFFFFF;\n",
              "    }\n",
              "  </style>\n",
              "\n",
              "    <script>\n",
              "      const buttonEl =\n",
              "        document.querySelector('#df-d052bf90-26e5-4608-b67e-5725ceee0049 button.colab-df-convert');\n",
              "      buttonEl.style.display =\n",
              "        google.colab.kernel.accessAllowed ? 'block' : 'none';\n",
              "\n",
              "      async function convertToInteractive(key) {\n",
              "        const element = document.querySelector('#df-d052bf90-26e5-4608-b67e-5725ceee0049');\n",
              "        const dataTable =\n",
              "          await google.colab.kernel.invokeFunction('convertToInteractive',\n",
              "                                                    [key], {});\n",
              "        if (!dataTable) return;\n",
              "\n",
              "        const docLinkHtml = 'Like what you see? Visit the ' +\n",
              "          '<a target=\"_blank\" href=https://colab.research.google.com/notebooks/data_table.ipynb>data table notebook</a>'\n",
              "          + ' to learn more about interactive tables.';\n",
              "        element.innerHTML = '';\n",
              "        dataTable['output_type'] = 'display_data';\n",
              "        await google.colab.output.renderOutput(dataTable, element);\n",
              "        const docLink = document.createElement('div');\n",
              "        docLink.innerHTML = docLinkHtml;\n",
              "        element.appendChild(docLink);\n",
              "      }\n",
              "    </script>\n",
              "  </div>\n",
              "\n",
              "\n",
              "<div id=\"df-d3384c36-f259-4a15-9eb2-d012e68fa911\">\n",
              "  <button class=\"colab-df-quickchart\" onclick=\"quickchart('df-d3384c36-f259-4a15-9eb2-d012e68fa911')\"\n",
              "            title=\"Suggest charts\"\n",
              "            style=\"display:none;\">\n",
              "\n",
              "<svg xmlns=\"http://www.w3.org/2000/svg\" height=\"24px\"viewBox=\"0 0 24 24\"\n",
              "     width=\"24px\">\n",
              "    <g>\n",
              "        <path d=\"M19 3H5c-1.1 0-2 .9-2 2v14c0 1.1.9 2 2 2h14c1.1 0 2-.9 2-2V5c0-1.1-.9-2-2-2zM9 17H7v-7h2v7zm4 0h-2V7h2v10zm4 0h-2v-4h2v4z\"/>\n",
              "    </g>\n",
              "</svg>\n",
              "  </button>\n",
              "\n",
              "<style>\n",
              "  .colab-df-quickchart {\n",
              "      --bg-color: #E8F0FE;\n",
              "      --fill-color: #1967D2;\n",
              "      --hover-bg-color: #E2EBFA;\n",
              "      --hover-fill-color: #174EA6;\n",
              "      --disabled-fill-color: #AAA;\n",
              "      --disabled-bg-color: #DDD;\n",
              "  }\n",
              "\n",
              "  [theme=dark] .colab-df-quickchart {\n",
              "      --bg-color: #3B4455;\n",
              "      --fill-color: #D2E3FC;\n",
              "      --hover-bg-color: #434B5C;\n",
              "      --hover-fill-color: #FFFFFF;\n",
              "      --disabled-bg-color: #3B4455;\n",
              "      --disabled-fill-color: #666;\n",
              "  }\n",
              "\n",
              "  .colab-df-quickchart {\n",
              "    background-color: var(--bg-color);\n",
              "    border: none;\n",
              "    border-radius: 50%;\n",
              "    cursor: pointer;\n",
              "    display: none;\n",
              "    fill: var(--fill-color);\n",
              "    height: 32px;\n",
              "    padding: 0;\n",
              "    width: 32px;\n",
              "  }\n",
              "\n",
              "  .colab-df-quickchart:hover {\n",
              "    background-color: var(--hover-bg-color);\n",
              "    box-shadow: 0 1px 2px rgba(60, 64, 67, 0.3), 0 1px 3px 1px rgba(60, 64, 67, 0.15);\n",
              "    fill: var(--button-hover-fill-color);\n",
              "  }\n",
              "\n",
              "  .colab-df-quickchart-complete:disabled,\n",
              "  .colab-df-quickchart-complete:disabled:hover {\n",
              "    background-color: var(--disabled-bg-color);\n",
              "    fill: var(--disabled-fill-color);\n",
              "    box-shadow: none;\n",
              "  }\n",
              "\n",
              "  .colab-df-spinner {\n",
              "    border: 2px solid var(--fill-color);\n",
              "    border-color: transparent;\n",
              "    border-bottom-color: var(--fill-color);\n",
              "    animation:\n",
              "      spin 1s steps(1) infinite;\n",
              "  }\n",
              "\n",
              "  @keyframes spin {\n",
              "    0% {\n",
              "      border-color: transparent;\n",
              "      border-bottom-color: var(--fill-color);\n",
              "      border-left-color: var(--fill-color);\n",
              "    }\n",
              "    20% {\n",
              "      border-color: transparent;\n",
              "      border-left-color: var(--fill-color);\n",
              "      border-top-color: var(--fill-color);\n",
              "    }\n",
              "    30% {\n",
              "      border-color: transparent;\n",
              "      border-left-color: var(--fill-color);\n",
              "      border-top-color: var(--fill-color);\n",
              "      border-right-color: var(--fill-color);\n",
              "    }\n",
              "    40% {\n",
              "      border-color: transparent;\n",
              "      border-right-color: var(--fill-color);\n",
              "      border-top-color: var(--fill-color);\n",
              "    }\n",
              "    60% {\n",
              "      border-color: transparent;\n",
              "      border-right-color: var(--fill-color);\n",
              "    }\n",
              "    80% {\n",
              "      border-color: transparent;\n",
              "      border-right-color: var(--fill-color);\n",
              "      border-bottom-color: var(--fill-color);\n",
              "    }\n",
              "    90% {\n",
              "      border-color: transparent;\n",
              "      border-bottom-color: var(--fill-color);\n",
              "    }\n",
              "  }\n",
              "</style>\n",
              "\n",
              "  <script>\n",
              "    async function quickchart(key) {\n",
              "      const quickchartButtonEl =\n",
              "        document.querySelector('#' + key + ' button');\n",
              "      quickchartButtonEl.disabled = true;  // To prevent multiple clicks.\n",
              "      quickchartButtonEl.classList.add('colab-df-spinner');\n",
              "      try {\n",
              "        const charts = await google.colab.kernel.invokeFunction(\n",
              "            'suggestCharts', [key], {});\n",
              "      } catch (error) {\n",
              "        console.error('Error during call to suggestCharts:', error);\n",
              "      }\n",
              "      quickchartButtonEl.classList.remove('colab-df-spinner');\n",
              "      quickchartButtonEl.classList.add('colab-df-quickchart-complete');\n",
              "    }\n",
              "    (() => {\n",
              "      let quickchartButtonEl =\n",
              "        document.querySelector('#df-d3384c36-f259-4a15-9eb2-d012e68fa911 button');\n",
              "      quickchartButtonEl.style.display =\n",
              "        google.colab.kernel.accessAllowed ? 'block' : 'none';\n",
              "    })();\n",
              "  </script>\n",
              "</div>\n",
              "\n",
              "    </div>\n",
              "  </div>\n"
            ],
            "application/vnd.google.colaboratory.intrinsic+json": {
              "type": "dataframe",
              "variable_name": "df",
              "summary": "{\n  \"name\": \"df\",\n  \"rows\": 100,\n  \"fields\": [\n    {\n      \"column\": \"FirstName\",\n      \"properties\": {\n        \"dtype\": \"string\",\n        \"num_unique_values\": 89,\n        \"samples\": [\n          \"robert\",\n          \"john\",\n          \"Jonathan\"\n        ],\n        \"semantic_type\": \"\",\n        \"description\": \"\"\n      }\n    },\n    {\n      \"column\": \"LastName\",\n      \"properties\": {\n        \"dtype\": \"string\",\n        \"num_unique_values\": 92,\n        \"samples\": [\n          \"Neal\",\n          \"simmons\",\n          \"evans\"\n        ],\n        \"semantic_type\": \"\",\n        \"description\": \"\"\n      }\n    },\n    {\n      \"column\": \"Class\",\n      \"properties\": {\n        \"dtype\": \"category\",\n        \"num_unique_values\": 5,\n        \"samples\": [\n          \"8\",\n          \"7\",\n          \"6\"\n        ],\n        \"semantic_type\": \"\",\n        \"description\": \"\"\n      }\n    },\n    {\n      \"column\": \"MathMarks\",\n      \"properties\": {\n        \"dtype\": \"number\",\n        \"std\": 14,\n        \"min\": 51,\n        \"max\": 99,\n        \"num_unique_values\": 44,\n        \"samples\": [\n          97,\n          84,\n          70\n        ],\n        \"semantic_type\": \"\",\n        \"description\": \"\"\n      }\n    },\n    {\n      \"column\": \"ScienceMarks\",\n      \"properties\": {\n        \"dtype\": \"number\",\n        \"std\": 15,\n        \"min\": 50,\n        \"max\": 100,\n        \"num_unique_values\": 43,\n        \"samples\": [\n          60,\n          84,\n          61\n        ],\n        \"semantic_type\": \"\",\n        \"description\": \"\"\n      }\n    },\n    {\n      \"column\": \"Age\",\n      \"properties\": {\n        \"dtype\": \"number\",\n        \"std\": 1,\n        \"min\": 15,\n        \"max\": 18,\n        \"num_unique_values\": 4,\n        \"samples\": [\n          16,\n          15,\n          17\n        ],\n        \"semantic_type\": \"\",\n        \"description\": \"\"\n      }\n    },\n    {\n      \"column\": \"Temperature\",\n      \"properties\": {\n        \"dtype\": \"number\",\n        \"std\": 0.43794169622556967,\n        \"min\": 36.0,\n        \"max\": 37.5,\n        \"num_unique_values\": 16,\n        \"samples\": [\n          36.5,\n          37.2,\n          36.0\n        ],\n        \"semantic_type\": \"\",\n        \"description\": \"\"\n      }\n    },\n    {\n      \"column\": \"StressLevel\",\n      \"properties\": {\n        \"dtype\": \"number\",\n        \"std\": 2,\n        \"min\": 1,\n        \"max\": 10,\n        \"num_unique_values\": 10,\n        \"samples\": [\n          7,\n          1,\n          2\n        ],\n        \"semantic_type\": \"\",\n        \"description\": \"\"\n      }\n    },\n    {\n      \"column\": \"HeartRate\",\n      \"properties\": {\n        \"dtype\": \"number\",\n        \"std\": 10,\n        \"min\": 60,\n        \"max\": 100,\n        \"num_unique_values\": 36,\n        \"samples\": [\n          99,\n          100,\n          97\n        ],\n        \"semantic_type\": \"\",\n        \"description\": \"\"\n      }\n    },\n    {\n      \"column\": \"Nervous\",\n      \"properties\": {\n        \"dtype\": \"boolean\",\n        \"num_unique_values\": 2,\n        \"samples\": [\n          false,\n          true\n        ],\n        \"semantic_type\": \"\",\n        \"description\": \"\"\n      }\n    },\n    {\n      \"column\": \"OnMedication\",\n      \"properties\": {\n        \"dtype\": \"boolean\",\n        \"num_unique_values\": 2,\n        \"samples\": [\n          false,\n          true\n        ],\n        \"semantic_type\": \"\",\n        \"description\": \"\"\n      }\n    },\n    {\n      \"column\": \"MedicationName\",\n      \"properties\": {\n        \"dtype\": \"category\",\n        \"num_unique_values\": 19,\n        \"samples\": [\n          \"Eye Drops\",\n          \"Vitamin C\"\n        ],\n        \"semantic_type\": \"\",\n        \"description\": \"\"\n      }\n    }\n  ]\n}"
            }
          },
          "metadata": {},
          "execution_count": 1
        }
      ]
    },
    {
      "cell_type": "markdown",
      "source": [
        "Q1. What is the length of the dataset and what other information can you gather using inbuilt functions."
      ],
      "metadata": {
        "id": "xo4_5Q6m2WvX"
      }
    },
    {
      "cell_type": "code",
      "source": [
        "# Display the length of the dataset\n",
        "length_of_dataset = len(df)\n",
        "print(\"Length of the dataset:\", length_of_dataset)"
      ],
      "metadata": {
        "colab": {
          "base_uri": "https://localhost:8080/"
        },
        "id": "CmS5fqmB0q9I",
        "outputId": "91ca6304-d238-45ed-fa1f-6b54e1d39c93"
      },
      "execution_count": null,
      "outputs": [
        {
          "output_type": "stream",
          "name": "stdout",
          "text": [
            "Length of the dataset: 100\n"
          ]
        }
      ]
    },
    {
      "cell_type": "code",
      "source": [
        "# Display the last few rows of the dataset\n",
        "last_few_rows = df.tail()\n",
        "df.tail()"
      ],
      "metadata": {
        "colab": {
          "base_uri": "https://localhost:8080/",
          "height": 206
        },
        "id": "t7WUMy-b00Xu",
        "outputId": "1f6c40b0-82e6-4b2f-b158-3223d76fafa3"
      },
      "execution_count": null,
      "outputs": [
        {
          "output_type": "execute_result",
          "data": {
            "text/plain": [
              "   FirstName    LastName Class  MathMarks  ScienceMarks  Age  Temperature  \\\n",
              "95    Rachel       Moore     6         50            97   17         37.0   \n",
              "96  Margaret  richardson    10         99            90   16         36.6   \n",
              "97    Curtis      Campos     8         81            99   16         36.3   \n",
              "98   cameron      horton     9         98            60   18         37.4   \n",
              "99    Lauren    peterson     9         91            85   15         37.2   \n",
              "\n",
              "    StressLevel  HeartRate  Nervous  OnMedication           MedicationName  \n",
              "95            1         73    False         False                     None  \n",
              "96            9        100    False          True  Anti-Anxiety Medication  \n",
              "97            8         77    False          True      Pain Reliever Cream  \n",
              "98            7         88     True          True                Ibuprofen  \n",
              "99            2         62     True         False                     None  "
            ],
            "text/html": [
              "\n",
              "  <div id=\"df-24d3bdaa-e798-4a80-9fbe-6eea2fe9ccc4\" class=\"colab-df-container\">\n",
              "    <div>\n",
              "<style scoped>\n",
              "    .dataframe tbody tr th:only-of-type {\n",
              "        vertical-align: middle;\n",
              "    }\n",
              "\n",
              "    .dataframe tbody tr th {\n",
              "        vertical-align: top;\n",
              "    }\n",
              "\n",
              "    .dataframe thead th {\n",
              "        text-align: right;\n",
              "    }\n",
              "</style>\n",
              "<table border=\"1\" class=\"dataframe\">\n",
              "  <thead>\n",
              "    <tr style=\"text-align: right;\">\n",
              "      <th></th>\n",
              "      <th>FirstName</th>\n",
              "      <th>LastName</th>\n",
              "      <th>Class</th>\n",
              "      <th>MathMarks</th>\n",
              "      <th>ScienceMarks</th>\n",
              "      <th>Age</th>\n",
              "      <th>Temperature</th>\n",
              "      <th>StressLevel</th>\n",
              "      <th>HeartRate</th>\n",
              "      <th>Nervous</th>\n",
              "      <th>OnMedication</th>\n",
              "      <th>MedicationName</th>\n",
              "    </tr>\n",
              "  </thead>\n",
              "  <tbody>\n",
              "    <tr>\n",
              "      <th>95</th>\n",
              "      <td>Rachel</td>\n",
              "      <td>Moore</td>\n",
              "      <td>6</td>\n",
              "      <td>50</td>\n",
              "      <td>97</td>\n",
              "      <td>17</td>\n",
              "      <td>37.0</td>\n",
              "      <td>1</td>\n",
              "      <td>73</td>\n",
              "      <td>False</td>\n",
              "      <td>False</td>\n",
              "      <td>None</td>\n",
              "    </tr>\n",
              "    <tr>\n",
              "      <th>96</th>\n",
              "      <td>Margaret</td>\n",
              "      <td>richardson</td>\n",
              "      <td>10</td>\n",
              "      <td>99</td>\n",
              "      <td>90</td>\n",
              "      <td>16</td>\n",
              "      <td>36.6</td>\n",
              "      <td>9</td>\n",
              "      <td>100</td>\n",
              "      <td>False</td>\n",
              "      <td>True</td>\n",
              "      <td>Anti-Anxiety Medication</td>\n",
              "    </tr>\n",
              "    <tr>\n",
              "      <th>97</th>\n",
              "      <td>Curtis</td>\n",
              "      <td>Campos</td>\n",
              "      <td>8</td>\n",
              "      <td>81</td>\n",
              "      <td>99</td>\n",
              "      <td>16</td>\n",
              "      <td>36.3</td>\n",
              "      <td>8</td>\n",
              "      <td>77</td>\n",
              "      <td>False</td>\n",
              "      <td>True</td>\n",
              "      <td>Pain Reliever Cream</td>\n",
              "    </tr>\n",
              "    <tr>\n",
              "      <th>98</th>\n",
              "      <td>cameron</td>\n",
              "      <td>horton</td>\n",
              "      <td>9</td>\n",
              "      <td>98</td>\n",
              "      <td>60</td>\n",
              "      <td>18</td>\n",
              "      <td>37.4</td>\n",
              "      <td>7</td>\n",
              "      <td>88</td>\n",
              "      <td>True</td>\n",
              "      <td>True</td>\n",
              "      <td>Ibuprofen</td>\n",
              "    </tr>\n",
              "    <tr>\n",
              "      <th>99</th>\n",
              "      <td>Lauren</td>\n",
              "      <td>peterson</td>\n",
              "      <td>9</td>\n",
              "      <td>91</td>\n",
              "      <td>85</td>\n",
              "      <td>15</td>\n",
              "      <td>37.2</td>\n",
              "      <td>2</td>\n",
              "      <td>62</td>\n",
              "      <td>True</td>\n",
              "      <td>False</td>\n",
              "      <td>None</td>\n",
              "    </tr>\n",
              "  </tbody>\n",
              "</table>\n",
              "</div>\n",
              "    <div class=\"colab-df-buttons\">\n",
              "\n",
              "  <div class=\"colab-df-container\">\n",
              "    <button class=\"colab-df-convert\" onclick=\"convertToInteractive('df-24d3bdaa-e798-4a80-9fbe-6eea2fe9ccc4')\"\n",
              "            title=\"Convert this dataframe to an interactive table.\"\n",
              "            style=\"display:none;\">\n",
              "\n",
              "  <svg xmlns=\"http://www.w3.org/2000/svg\" height=\"24px\" viewBox=\"0 -960 960 960\">\n",
              "    <path d=\"M120-120v-720h720v720H120Zm60-500h600v-160H180v160Zm220 220h160v-160H400v160Zm0 220h160v-160H400v160ZM180-400h160v-160H180v160Zm440 0h160v-160H620v160ZM180-180h160v-160H180v160Zm440 0h160v-160H620v160Z\"/>\n",
              "  </svg>\n",
              "    </button>\n",
              "\n",
              "  <style>\n",
              "    .colab-df-container {\n",
              "      display:flex;\n",
              "      gap: 12px;\n",
              "    }\n",
              "\n",
              "    .colab-df-convert {\n",
              "      background-color: #E8F0FE;\n",
              "      border: none;\n",
              "      border-radius: 50%;\n",
              "      cursor: pointer;\n",
              "      display: none;\n",
              "      fill: #1967D2;\n",
              "      height: 32px;\n",
              "      padding: 0 0 0 0;\n",
              "      width: 32px;\n",
              "    }\n",
              "\n",
              "    .colab-df-convert:hover {\n",
              "      background-color: #E2EBFA;\n",
              "      box-shadow: 0px 1px 2px rgba(60, 64, 67, 0.3), 0px 1px 3px 1px rgba(60, 64, 67, 0.15);\n",
              "      fill: #174EA6;\n",
              "    }\n",
              "\n",
              "    .colab-df-buttons div {\n",
              "      margin-bottom: 4px;\n",
              "    }\n",
              "\n",
              "    [theme=dark] .colab-df-convert {\n",
              "      background-color: #3B4455;\n",
              "      fill: #D2E3FC;\n",
              "    }\n",
              "\n",
              "    [theme=dark] .colab-df-convert:hover {\n",
              "      background-color: #434B5C;\n",
              "      box-shadow: 0px 1px 3px 1px rgba(0, 0, 0, 0.15);\n",
              "      filter: drop-shadow(0px 1px 2px rgba(0, 0, 0, 0.3));\n",
              "      fill: #FFFFFF;\n",
              "    }\n",
              "  </style>\n",
              "\n",
              "    <script>\n",
              "      const buttonEl =\n",
              "        document.querySelector('#df-24d3bdaa-e798-4a80-9fbe-6eea2fe9ccc4 button.colab-df-convert');\n",
              "      buttonEl.style.display =\n",
              "        google.colab.kernel.accessAllowed ? 'block' : 'none';\n",
              "\n",
              "      async function convertToInteractive(key) {\n",
              "        const element = document.querySelector('#df-24d3bdaa-e798-4a80-9fbe-6eea2fe9ccc4');\n",
              "        const dataTable =\n",
              "          await google.colab.kernel.invokeFunction('convertToInteractive',\n",
              "                                                    [key], {});\n",
              "        if (!dataTable) return;\n",
              "\n",
              "        const docLinkHtml = 'Like what you see? Visit the ' +\n",
              "          '<a target=\"_blank\" href=https://colab.research.google.com/notebooks/data_table.ipynb>data table notebook</a>'\n",
              "          + ' to learn more about interactive tables.';\n",
              "        element.innerHTML = '';\n",
              "        dataTable['output_type'] = 'display_data';\n",
              "        await google.colab.output.renderOutput(dataTable, element);\n",
              "        const docLink = document.createElement('div');\n",
              "        docLink.innerHTML = docLinkHtml;\n",
              "        element.appendChild(docLink);\n",
              "      }\n",
              "    </script>\n",
              "  </div>\n",
              "\n",
              "\n",
              "<div id=\"df-af64c38b-61dc-4da1-a086-315a077f785a\">\n",
              "  <button class=\"colab-df-quickchart\" onclick=\"quickchart('df-af64c38b-61dc-4da1-a086-315a077f785a')\"\n",
              "            title=\"Suggest charts\"\n",
              "            style=\"display:none;\">\n",
              "\n",
              "<svg xmlns=\"http://www.w3.org/2000/svg\" height=\"24px\"viewBox=\"0 0 24 24\"\n",
              "     width=\"24px\">\n",
              "    <g>\n",
              "        <path d=\"M19 3H5c-1.1 0-2 .9-2 2v14c0 1.1.9 2 2 2h14c1.1 0 2-.9 2-2V5c0-1.1-.9-2-2-2zM9 17H7v-7h2v7zm4 0h-2V7h2v10zm4 0h-2v-4h2v4z\"/>\n",
              "    </g>\n",
              "</svg>\n",
              "  </button>\n",
              "\n",
              "<style>\n",
              "  .colab-df-quickchart {\n",
              "      --bg-color: #E8F0FE;\n",
              "      --fill-color: #1967D2;\n",
              "      --hover-bg-color: #E2EBFA;\n",
              "      --hover-fill-color: #174EA6;\n",
              "      --disabled-fill-color: #AAA;\n",
              "      --disabled-bg-color: #DDD;\n",
              "  }\n",
              "\n",
              "  [theme=dark] .colab-df-quickchart {\n",
              "      --bg-color: #3B4455;\n",
              "      --fill-color: #D2E3FC;\n",
              "      --hover-bg-color: #434B5C;\n",
              "      --hover-fill-color: #FFFFFF;\n",
              "      --disabled-bg-color: #3B4455;\n",
              "      --disabled-fill-color: #666;\n",
              "  }\n",
              "\n",
              "  .colab-df-quickchart {\n",
              "    background-color: var(--bg-color);\n",
              "    border: none;\n",
              "    border-radius: 50%;\n",
              "    cursor: pointer;\n",
              "    display: none;\n",
              "    fill: var(--fill-color);\n",
              "    height: 32px;\n",
              "    padding: 0;\n",
              "    width: 32px;\n",
              "  }\n",
              "\n",
              "  .colab-df-quickchart:hover {\n",
              "    background-color: var(--hover-bg-color);\n",
              "    box-shadow: 0 1px 2px rgba(60, 64, 67, 0.3), 0 1px 3px 1px rgba(60, 64, 67, 0.15);\n",
              "    fill: var(--button-hover-fill-color);\n",
              "  }\n",
              "\n",
              "  .colab-df-quickchart-complete:disabled,\n",
              "  .colab-df-quickchart-complete:disabled:hover {\n",
              "    background-color: var(--disabled-bg-color);\n",
              "    fill: var(--disabled-fill-color);\n",
              "    box-shadow: none;\n",
              "  }\n",
              "\n",
              "  .colab-df-spinner {\n",
              "    border: 2px solid var(--fill-color);\n",
              "    border-color: transparent;\n",
              "    border-bottom-color: var(--fill-color);\n",
              "    animation:\n",
              "      spin 1s steps(1) infinite;\n",
              "  }\n",
              "\n",
              "  @keyframes spin {\n",
              "    0% {\n",
              "      border-color: transparent;\n",
              "      border-bottom-color: var(--fill-color);\n",
              "      border-left-color: var(--fill-color);\n",
              "    }\n",
              "    20% {\n",
              "      border-color: transparent;\n",
              "      border-left-color: var(--fill-color);\n",
              "      border-top-color: var(--fill-color);\n",
              "    }\n",
              "    30% {\n",
              "      border-color: transparent;\n",
              "      border-left-color: var(--fill-color);\n",
              "      border-top-color: var(--fill-color);\n",
              "      border-right-color: var(--fill-color);\n",
              "    }\n",
              "    40% {\n",
              "      border-color: transparent;\n",
              "      border-right-color: var(--fill-color);\n",
              "      border-top-color: var(--fill-color);\n",
              "    }\n",
              "    60% {\n",
              "      border-color: transparent;\n",
              "      border-right-color: var(--fill-color);\n",
              "    }\n",
              "    80% {\n",
              "      border-color: transparent;\n",
              "      border-right-color: var(--fill-color);\n",
              "      border-bottom-color: var(--fill-color);\n",
              "    }\n",
              "    90% {\n",
              "      border-color: transparent;\n",
              "      border-bottom-color: var(--fill-color);\n",
              "    }\n",
              "  }\n",
              "</style>\n",
              "\n",
              "  <script>\n",
              "    async function quickchart(key) {\n",
              "      const quickchartButtonEl =\n",
              "        document.querySelector('#' + key + ' button');\n",
              "      quickchartButtonEl.disabled = true;  // To prevent multiple clicks.\n",
              "      quickchartButtonEl.classList.add('colab-df-spinner');\n",
              "      try {\n",
              "        const charts = await google.colab.kernel.invokeFunction(\n",
              "            'suggestCharts', [key], {});\n",
              "      } catch (error) {\n",
              "        console.error('Error during call to suggestCharts:', error);\n",
              "      }\n",
              "      quickchartButtonEl.classList.remove('colab-df-spinner');\n",
              "      quickchartButtonEl.classList.add('colab-df-quickchart-complete');\n",
              "    }\n",
              "    (() => {\n",
              "      let quickchartButtonEl =\n",
              "        document.querySelector('#df-af64c38b-61dc-4da1-a086-315a077f785a button');\n",
              "      quickchartButtonEl.style.display =\n",
              "        google.colab.kernel.accessAllowed ? 'block' : 'none';\n",
              "    })();\n",
              "  </script>\n",
              "</div>\n",
              "\n",
              "    </div>\n",
              "  </div>\n"
            ]
          },
          "metadata": {},
          "execution_count": 7
        }
      ]
    },
    {
      "cell_type": "markdown",
      "source": [
        "Q1. Now convert the FirstName Column to a list and save it in a variable and display only the first 5 items in the list. (Hint : Use xxxxxx.tolist() and slicing)"
      ],
      "metadata": {
        "id": "2qbaMC44zTV5"
      }
    },
    {
      "cell_type": "code",
      "source": [
        "first_name_list = df['FirstName'].tolist()\n",
        "print(\"First 5 items in the 'first_name_list':\", first_name_list[:5])"
      ],
      "metadata": {
        "id": "lYp1zrqHmmkj",
        "colab": {
          "base_uri": "https://localhost:8080/"
        },
        "outputId": "c63deedf-5f29-4305-83f7-27876be03672"
      },
      "execution_count": 3,
      "outputs": [
        {
          "output_type": "stream",
          "name": "stdout",
          "text": [
            "First 5 items in the 'first_name_list': ['David', 'brian', 'steve', 'Caleb', 'william']\n"
          ]
        }
      ]
    },
    {
      "cell_type": "markdown",
      "source": [
        "Q2. The firstname column  has the items in proper case and lower case. Convert the list to upper case. (Hint: Either use list comprehension or a loop and apply the upper function)"
      ],
      "metadata": {
        "id": "ebFfeWXl1Lmw"
      }
    },
    {
      "cell_type": "code",
      "source": [
        "first_name_list_uppercase = [name.upper() for name in first_name_list]\n",
        "print(\"First 5 items in the 'first_name_list' (uppercase):\", first_name_list_uppercase[:5])"
      ],
      "metadata": {
        "id": "WbWZmkBDml7V",
        "colab": {
          "base_uri": "https://localhost:8080/"
        },
        "outputId": "3d6a7ea7-d3eb-40de-dc72-b20dfe4d6b0c"
      },
      "execution_count": 4,
      "outputs": [
        {
          "output_type": "stream",
          "name": "stdout",
          "text": [
            "First 5 items in the 'first_name_list' (uppercase): ['DAVID', 'BRIAN', 'STEVE', 'CALEB', 'WILLIAM']\n"
          ]
        }
      ]
    },
    {
      "cell_type": "markdown",
      "source": [
        "Q3. How many unique classes are there ? Are there any NaN values in the dataset?"
      ],
      "metadata": {
        "id": "1N4JfdSU4WBz"
      }
    },
    {
      "cell_type": "code",
      "source": [
        "num_unique_classes = df['Class'].nunique()\n",
        "print(\"Number of unique classes:\", num_unique_classes)"
      ],
      "metadata": {
        "id": "4OScCJzBmlbr",
        "colab": {
          "base_uri": "https://localhost:8080/"
        },
        "outputId": "24559955-7026-4d08-e0ba-c5169807b269"
      },
      "execution_count": 5,
      "outputs": [
        {
          "output_type": "stream",
          "name": "stdout",
          "text": [
            "Number of unique classes: 5\n"
          ]
        }
      ]
    },
    {
      "cell_type": "code",
      "source": [
        "nan_values_exist = df.isna().any().any()\n",
        "print(\"Are there any NaN values in the dataset?\", nan_values_exist)"
      ],
      "metadata": {
        "colab": {
          "base_uri": "https://localhost:8080/"
        },
        "id": "QYs7u9e32zau",
        "outputId": "c8d7dd2e-ed55-4b48-ec2b-87da9e1c7d49"
      },
      "execution_count": 6,
      "outputs": [
        {
          "output_type": "stream",
          "name": "stdout",
          "text": [
            "Are there any NaN values in the dataset? True\n"
          ]
        }
      ]
    },
    {
      "cell_type": "markdown",
      "source": [
        "Q4. How many people are nervous and below 16 years?"
      ],
      "metadata": {
        "id": "aFS6MZobG6DT"
      }
    },
    {
      "cell_type": "code",
      "source": [
        "num_nervous_below_16 = df[(df['Nervous'] == True) & (df['Age'] < 16)].shape[0]\n",
        "print(\"Number of people who are nervous and below 16 years old:\", num_nervous_below_16)"
      ],
      "metadata": {
        "id": "EPrAxerDmlCr",
        "colab": {
          "base_uri": "https://localhost:8080/"
        },
        "outputId": "0832d7b2-dd48-4c86-f64e-aeec0da05386"
      },
      "execution_count": 7,
      "outputs": [
        {
          "output_type": "stream",
          "name": "stdout",
          "text": [
            "Number of people who are nervous and below 16 years old: 13\n"
          ]
        }
      ]
    },
    {
      "cell_type": "markdown",
      "source": [
        "Q5. Make a line plot of the MathMarks. (Hint : Either use matplotlib plot or  inbuilt plot function of pandas to do so)\n"
      ],
      "metadata": {
        "id": "Nmb4KECH46IU"
      }
    },
    {
      "cell_type": "code",
      "source": [
        "import matplotlib.pyplot as plt"
      ],
      "metadata": {
        "id": "nLi6RX-_5P2o"
      },
      "execution_count": 8,
      "outputs": []
    },
    {
      "cell_type": "markdown",
      "source": [
        "Q6. Make a histogram of the ScienceMarks column. (Hint : Use plt.hist)"
      ],
      "metadata": {
        "id": "hAV7Ar8z7Q1h"
      }
    },
    {
      "cell_type": "code",
      "source": [
        "import matplotlib.pyplot as plt\n",
        "import numpy as np\n",
        "\n",
        "# Data\n",
        "data1 = [62, 94, 67, 74, 99, 98, 58, 54, 86, 71, 51, 97, 97, 53, 68, 58, 79, 69, 55, 94, 54, 85, 86, 66, 100, 76, 55, 99, 66, 83, 57, 87, 84, 61, 84, 93, 81, 66, 73, 72, 85, 98, 93, 100, 86, 81, 97, 92, 99, 92, 51, 97, 70, 66, 88, 98, 67, 88, 61, 59, 66, 85, 75, 59, 99, 53, 94, 64, 71, 70, 50, 64, 71, 60, 71, 61, 85, 87, 61, 91, 61, 61, 69, 65, 57, 94, 79, 60, 88, 78, 90, 59, 81, 57, 94, 58, 80, 55, 87, 71]\n",
        "data2 = [91, 66, 93, 68, 92, 51, 87, 95, 69, 87, 74, 68, 52, 59, 88, 91, 67, 66, 56, 68, 87, 61, 65, 71, 81, 54, 99, 53, 93, 51, 55, 61, 96, 84, 70, 73, 64, 99, 88, 59, 57, 86, 93, 71, 63, 62, 94, 90, 70, 56, 79, 66, 51, 80, 75, 97, 71, 89, 77, 75, 90, 93, 52, 60, 69, 51, 90, 97, 75, 65, 81, 99, 80, 67, 51, 89, 73, 75, 77, 90, 69, 95, 77, 72, 90, 82, 62, 51, 77, 64, 85, 69, 93, 67, 99, 96, 81, 77, 96, 88]\n",
        "\n",
        "# Creating the x-axis values\n",
        "x = np.arange(1, len(data1) + 1)\n",
        "\n",
        "# Plotting the data\n",
        "plt.figure(figsize=(14, 7))\n",
        "plt.plot(x, data1, marker='o', label='Data Set 1')\n",
        "plt.plot(x, data2, marker='o', label='Data Set 2')\n",
        "plt.title('Comparison of Two Data Sets')\n",
        "plt.xlabel('Index')\n",
        "plt.ylabel('Values')\n",
        "plt.legend()\n",
        "plt.grid(True)\n",
        "plt.show()\n"
      ],
      "metadata": {
        "colab": {
          "base_uri": "https://localhost:8080/",
          "height": 641
        },
        "id": "6MFVdep3sKfM",
        "outputId": "e8ab4e9f-8ea0-4ff4-eb37-f726fa5dfc58"
      },
      "execution_count": 22,
      "outputs": [
        {
          "output_type": "display_data",
          "data": {
            "text/plain": [
              "<Figure size 1400x700 with 1 Axes>"
            ],
            "image/png": "[encoded data removed]"
          },
          "metadata": {}
        }
      ]
    },
    {
      "cell_type": "code",
      "source": [
        "x = df['ScienceMarks']\n",
        "plt.hist(x)"
      ],
      "metadata": {
        "id": "mmORkF0ImkQs",
        "colab": {
          "base_uri": "https://localhost:8080/",
          "height": 482
        },
        "outputId": "f87b34d4-f016-4aa7-f084-86ca088bdaeb"
      },
      "execution_count": 9,
      "outputs": [
        {
          "output_type": "execute_result",
          "data": {
            "text/plain": [
              "(array([ 7., 12., 11., 11., 10.,  5.,  7., 13., 11., 13.]),\n",
              " array([ 50.,  55.,  60.,  65.,  70.,  75.,  80.,  85.,  90.,  95., 100.]),\n",
              " <BarContainer object of 10 artists>)"
            ]
          },
          "metadata": {},
          "execution_count": 9
        },
        {
          "output_type": "display_data",
          "data": {
            "text/plain": [
              "<Figure size 640x480 with 1 Axes>"
            ],
            "image/png": "[encoded data removed]"
          },
          "metadata": {}
        }
      ]
    },
    {
      "cell_type": "markdown",
      "source": [
        "Q7. Make two dataframes :\n",
        "- One for nervous students\n",
        "- One for not nervous students\n",
        "\n",
        "Calculate the Standard Deviation & Mean of age, tempearature, mathmarks, sciencemarks for both the dataframes.  \n",
        "\n"
      ],
      "metadata": {
        "id": "YN41dpWjJqTM"
      }
    },
    {
      "cell_type": "code",
      "source": [
        "df_nervous = df[df['Nervous']]\n",
        "columns_to_analyze = ['Age', 'Temperature', 'MathMarks', 'ScienceMarks']\n",
        "std_dev_nervous = df_nervous[columns_to_analyze].std()\n",
        "mean_nervous = df_nervous[columns_to_analyze].mean()\n",
        "print(\"\\nStatistics for Nervous Students:\")\n",
        "print(\"Standard Deviation:\")\n",
        "print(std_dev_nervous)\n",
        "print(\"\\nMean:\")\n",
        "print(mean_nervous)"
      ],
      "metadata": {
        "id": "DAbvEnkbmjpO",
        "colab": {
          "base_uri": "https://localhost:8080/"
        },
        "outputId": "56d8ec6f-de75-4605-c568-647089dc3f3c"
      },
      "execution_count": 10,
      "outputs": [
        {
          "output_type": "stream",
          "name": "stdout",
          "text": [
            "\n",
            "Statistics for Nervous Students:\n",
            "Standard Deviation:\n",
            "Age              1.157758\n",
            "Temperature      0.400795\n",
            "MathMarks       14.281195\n",
            "ScienceMarks    12.894482\n",
            "dtype: float64\n",
            "\n",
            "Mean:\n",
            "Age             16.422222\n",
            "Temperature     36.673333\n",
            "MathMarks       75.844444\n",
            "ScienceMarks    77.222222\n",
            "dtype: float64\n"
          ]
        }
      ]
    },
    {
      "cell_type": "code",
      "source": [
        "df_not_nervous = df[~df['Nervous']]\n",
        "columns_to_analyze = ['Age', 'Temperature', 'MathMarks', 'ScienceMarks']\n",
        "std_dev_not_nervous = df_not_nervous[columns_to_analyze].std()\n",
        "mean_not_nervous = df_not_nervous[columns_to_analyze].mean()\n",
        "print(\"\\nStatistics for Not Nervous Students:\")\n",
        "print(\"Standard Deviation:\")\n",
        "print(std_dev_not_nervous)\n",
        "print(\"\\nMean:\")\n",
        "print(mean_not_nervous)"
      ],
      "metadata": {
        "colab": {
          "base_uri": "https://localhost:8080/"
        },
        "id": "qb9kAHdN8eiG",
        "outputId": "b000f8a0-d06f-4329-91a8-ecffac900ae4"
      },
      "execution_count": 11,
      "outputs": [
        {
          "output_type": "stream",
          "name": "stdout",
          "text": [
            "\n",
            "Statistics for Not Nervous Students:\n",
            "Standard Deviation:\n",
            "Age              1.079968\n",
            "Temperature      0.467013\n",
            "MathMarks       14.867088\n",
            "ScienceMarks    16.939623\n",
            "dtype: float64\n",
            "\n",
            "Mean:\n",
            "Age             16.381818\n",
            "Temperature     36.749091\n",
            "MathMarks       75.545455\n",
            "ScienceMarks    74.290909\n",
            "dtype: float64\n"
          ]
        }
      ]
    },
    {
      "cell_type": "markdown",
      "source": [
        "Q8. Which is the most popular drug the students take? (Hint : Count the values)\n",
        "\n",
        "Which drug is most popular among Nervous students ?"
      ],
      "metadata": {
        "id": "y7JUFjxrKydc"
      }
    },
    {
      "cell_type": "code",
      "source": [
        "medication_counts = df['MedicationName'].value_counts()\n",
        "most_popular_drug = medication_counts.idxmax()\n",
        "count_most_popular_drug = medication_counts.max()\n",
        "\n",
        "print(f\"The most popular drug is '{most_popular_drug}'with {count_most_popular_drug} occurrences.\")"
      ],
      "metadata": {
        "id": "C0VM1QqGmi3r",
        "colab": {
          "base_uri": "https://localhost:8080/"
        },
        "outputId": "c9bbbe60-21a4-4317-e9a6-4bd8554c67fa"
      },
      "execution_count": 12,
      "outputs": [
        {
          "output_type": "stream",
          "name": "stdout",
          "text": [
            "The most popular drug is 'Cough Syrup'with 6 occurrences.\n"
          ]
        }
      ]
    },
    {
      "cell_type": "code",
      "source": [
        "df_nervous = df[df['Nervous']]\n",
        "medication_counts_nervous = df_nervous['MedicationName'].value_counts()\n",
        "most_popular_drug_nervous = medication_counts_nervous.idxmax()\n",
        "count_most_popular_drug_nervous = medication_counts_nervous.max()\n",
        "\n",
        "print(f\"The most popular drug among nervous students is '{most_popular_drug_nervous}'with {count_most_popular_drug_nervous} occurrences.\")"
      ],
      "metadata": {
        "colab": {
          "base_uri": "https://localhost:8080/"
        },
        "id": "Yaz1ffln9ap-",
        "outputId": "b85cee6d-92df-46cf-81c9-af40f8853db7"
      },
      "execution_count": 13,
      "outputs": [
        {
          "output_type": "stream",
          "name": "stdout",
          "text": [
            "The most popular drug among nervous students is 'Antidepressants'with 5 occurrences.\n"
          ]
        }
      ]
    },
    {
      "cell_type": "markdown",
      "source": [
        "Q9. Are students who take drugs more stressed than students who dont take drugs ? ( Hint : Filter by medication and find average stress level)"
      ],
      "metadata": {
        "id": "p5QOrFCSK2-h"
      }
    },
    {
      "cell_type": "code",
      "source": [
        "df_on_medication = df[df['OnMedication']]\n",
        "df_not_on_medication = df[~df['OnMedication']]\n",
        "average_stress_on_medication = df_on_medication['StressLevel'].mean()\n",
        "average_stress_not_on_medication = df_not_on_medication['StressLevel'].mean()\n",
        "print(f\"Average stress level for students who take drugs: {average_stress_on_medication}\")\n",
        "print(f\"Average stress level for students who don't take drugs: {average_stress_not_on_medication}\")"
      ],
      "metadata": {
        "id": "tqLb73s8miHz",
        "colab": {
          "base_uri": "https://localhost:8080/"
        },
        "outputId": "2ce5dee9-bc41-4769-e7e0-8682b0f588a5"
      },
      "execution_count": 14,
      "outputs": [
        {
          "output_type": "stream",
          "name": "stdout",
          "text": [
            "Average stress level for students who take drugs: 5.2075471698113205\n",
            "Average stress level for students who don't take drugs: 5.680851063829787\n"
          ]
        }
      ]
    },
    {
      "cell_type": "markdown",
      "source": [
        "Q10. Output the dataframe to a csv file and read it back into df."
      ],
      "metadata": {
        "id": "LjoHcA3r9XHh"
      }
    },
    {
      "cell_type": "code",
      "source": [
        "df.to_csv('students_data.csv', index = False)\n",
        "df_read_back = pd.read_csv('students_data.csv')\n",
        "print(\"DataFrame read back from CSV:\")\n",
        "print(df_read_back.head())"
      ],
      "metadata": {
        "id": "3GCZ7Iz2mhRz",
        "colab": {
          "base_uri": "https://localhost:8080/"
        },
        "outputId": "f6646f94-e501-4077-946f-0d57c028a198"
      },
      "execution_count": 15,
      "outputs": [
        {
          "output_type": "stream",
          "name": "stdout",
          "text": [
            "DataFrame read back from CSV:\n",
            "  FirstName LastName  Class  MathMarks  ScienceMarks  Age  Temperature  \\\n",
            "0     David     dunn     10         91            62   17         36.5   \n",
            "1     brian   Miller      8         66            94   16         37.2   \n",
            "2     steve   harper      6         93            67   18         37.2   \n",
            "3     Caleb    quinn      9         68            74   15         37.0   \n",
            "4   william   Thomas      8         92            99   16         36.5   \n",
            "\n",
            "   StressLevel  HeartRate  Nervous  OnMedication   MedicationName  \n",
            "0           10         84     True          True        Eye Drops  \n",
            "1           10         74    False          True        Eye Drops  \n",
            "2           10         80     True         False              NaN  \n",
            "3            1         88    False          True  Antidepressants  \n",
            "4           10         92    False          True      Cough Drops  \n"
          ]
        }
      ]
    },
    {
      "cell_type": "markdown",
      "source": [
        "# **Section 2**"
      ],
      "metadata": {
        "id": "ZfKaQDUWa7oM"
      }
    },
    {
      "cell_type": "code",
      "source": [
        "# @markdown ##### **Just execute this block, to get a 2D numpy array from ScienceMarks & MathMarks called marks_matrix**\n",
        "import numpy as np\n",
        "\n",
        "# Extract science marks and math marks as arrays from the DataFrame\n",
        "science_marks = df['ScienceMarks'].to_numpy()\n",
        "math_marks = df['MathMarks'].to_numpy()\n",
        "\n",
        "# Create a NumPy matrix from science marks and math marks\n",
        "marks_matrix = np.array([science_marks, math_marks])\n",
        "\n",
        "# Display the matrix\n",
        "print(marks_matrix)"
      ],
      "metadata": {
        "colab": {
          "base_uri": "https://localhost:8080/"
        },
        "id": "8H1e8tTaQTwj",
        "outputId": "412878d0-b64d-4dc4-9d3b-28f42ba166db",
        "cellView": "form"
      },
      "execution_count": 16,
      "outputs": [
        {
          "output_type": "stream",
          "name": "stdout",
          "text": [
            "[[ 62  94  67  74  99  98  58  54  86  71  51  97  97  53  68  58  79  69\n",
            "   55  94  54  85  86  66 100  76  55  99  66  83  57  87  84  61  84  93\n",
            "   81  66  73  72  85  98  93 100  86  81  97  92  99  92  51  97  70  66\n",
            "   88  98  67  88  61  59  66  85  75  59  99  53  94  64  71  70  50  64\n",
            "   71  60  71  61  85  87  61  91  61  61  69  65  57  94  79  60  88  78\n",
            "   90  59  81  57  94  58  80  55  87  71]\n",
            " [ 91  66  93  68  92  51  87  95  69  87  74  68  52  59  88  91  67  66\n",
            "   56  68  87  61  65  71  81  54  99  53  93  51  55  61  96  84  70  73\n",
            "   64  99  88  59  57  86  93  71  63  62  94  90  70  56  79  66  51  80\n",
            "   75  97  71  89  77  75  90  93  52  60  69  51  90  97  75  65  81  99\n",
            "   80  67  51  89  73  75  77  90  69  95  77  72  90  82  62  51  77  64\n",
            "   85  69  93  67  99  96  81  77  96  88]]\n"
          ]
        }
      ]
    },
    {
      "cell_type": "markdown",
      "source": [
        "Q11. Reduce all the marks in the matrix by 10 and save as a different matrix."
      ],
      "metadata": {
        "id": "WGf0bJ_DNQ9q"
      }
    },
    {
      "cell_type": "code",
      "source": [
        "reduced_marks_matrix = marks_matrix - 10\n",
        "print(\"\\nReduced Matrix:\")\n",
        "print(reduced_marks_matrix)"
      ],
      "metadata": {
        "id": "J7quf526mgID",
        "colab": {
          "base_uri": "https://localhost:8080/"
        },
        "outputId": "dff3d0a0-8024-4417-9715-620bd5915a06"
      },
      "execution_count": 17,
      "outputs": [
        {
          "output_type": "stream",
          "name": "stdout",
          "text": [
            "\n",
            "Reduced Matrix:\n",
            "[[52 84 57 64 89 88 48 44 76 61 41 87 87 43 58 48 69 59 45 84 44 75 76 56\n",
            "  90 66 45 89 56 73 47 77 74 51 74 83 71 56 63 62 75 88 83 90 76 71 87 82\n",
            "  89 82 41 87 60 56 78 88 57 78 51 49 56 75 65 49 89 43 84 54 61 60 40 54\n",
            "  61 50 61 51 75 77 51 81 51 51 59 55 47 84 69 50 78 68 80 49 71 47 84 48\n",
            "  70 45 77 61]\n",
            " [81 56 83 58 82 41 77 85 59 77 64 58 42 49 78 81 57 56 46 58 77 51 55 61\n",
            "  71 44 89 43 83 41 45 51 86 74 60 63 54 89 78 49 47 76 83 61 53 52 84 80\n",
            "  60 46 69 56 41 70 65 87 61 79 67 65 80 83 42 50 59 41 80 87 65 55 71 89\n",
            "  70 57 41 79 63 65 67 80 59 85 67 62 80 72 52 41 67 54 75 59 83 57 89 86\n",
            "  71 67 86 78]]\n"
          ]
        }
      ]
    },
    {
      "cell_type": "markdown",
      "source": [
        "Q12. Divide both the arrays and do a dot product. (Hint : The dot product may use a transpose)\n",
        "\n",
        "\n",
        "\n"
      ],
      "metadata": {
        "id": "9ZdtZ1NFRJgh"
      }
    },
    {
      "cell_type": "code",
      "source": [
        "import numpy as np\n",
        "\n",
        "# Data\n",
        "data1 = np.array([62, 94, 67, 74, 99, 98, 58, 54, 86, 71, 51, 97, 97, 53, 68, 58, 79, 69, 55, 94, 54, 85, 86, 66, 100, 76, 55, 99, 66, 83, 57, 87, 84, 61, 84, 93, 81, 66, 73, 72, 85, 98, 93, 100, 86, 81, 97, 92, 99, 92, 51, 97, 70, 66, 88, 98, 67, 88, 61, 59, 66, 85, 75, 59, 99, 53, 94, 64, 71, 70, 50, 64, 71, 60, 71, 61, 85, 87, 61, 91, 61, 61, 69, 65, 57, 94, 79, 60, 88, 78, 90, 59, 81, 57, 94, 58, 80, 55, 87, 71])\n",
        "data2 = np.array([91, 66, 93, 68, 92, 51, 87, 95, 69, 87, 74, 68, 52, 59, 88, 91, 67, 66, 56, 68, 87, 61, 65, 71, 81, 54, 99, 53, 93, 51, 55, 61, 96, 84, 70, 73, 64, 99, 88, 59, 57, 86, 93, 71, 63, 62, 94, 90, 70, 56, 79, 66, 51, 80, 75, 97, 71, 89, 77, 75, 90, 93, 52, 60, 69, 51, 90, 97, 75, 65, 81, 99, 80, 67, 51, 89, 73, 75, 77, 90, 69, 95, 77, 72, 90, 82, 62, 51, 77, 64, 85, 69, 93, 67, 99, 96, 81, 77, 96, 88])\n",
        "\n",
        "# Element-wise division\n",
        "division_result = np.divide(data1, data2)\n",
        "\n",
        "# Dot product\n",
        "dot_product_result = np.dot(division_result, data2)\n",
        "\n",
        "# Output the results\n",
        "division_result, dot_product_result\n"
      ],
      "metadata": {
        "colab": {
          "base_uri": "https://localhost:8080/"
        },
        "id": "jvATjh97rX_C",
        "outputId": "ed0fbf8b-8154-4128-9fed-f1b69468ea85"
      },
      "execution_count": 18,
      "outputs": [
        {
          "output_type": "execute_result",
          "data": {
            "text/plain": [
              "(array([0.68131868, 1.42424242, 0.72043011, 1.08823529, 1.07608696,\n",
              "        1.92156863, 0.66666667, 0.56842105, 1.24637681, 0.81609195,\n",
              "        0.68918919, 1.42647059, 1.86538462, 0.89830508, 0.77272727,\n",
              "        0.63736264, 1.17910448, 1.04545455, 0.98214286, 1.38235294,\n",
              "        0.62068966, 1.39344262, 1.32307692, 0.92957746, 1.2345679 ,\n",
              "        1.40740741, 0.55555556, 1.86792453, 0.70967742, 1.62745098,\n",
              "        1.03636364, 1.42622951, 0.875     , 0.72619048, 1.2       ,\n",
              "        1.2739726 , 1.265625  , 0.66666667, 0.82954545, 1.22033898,\n",
              "        1.49122807, 1.13953488, 1.        , 1.4084507 , 1.36507937,\n",
              "        1.30645161, 1.03191489, 1.02222222, 1.41428571, 1.64285714,\n",
              "        0.64556962, 1.46969697, 1.37254902, 0.825     , 1.17333333,\n",
              "        1.01030928, 0.94366197, 0.98876404, 0.79220779, 0.78666667,\n",
              "        0.73333333, 0.91397849, 1.44230769, 0.98333333, 1.43478261,\n",
              "        1.03921569, 1.04444444, 0.65979381, 0.94666667, 1.07692308,\n",
              "        0.61728395, 0.64646465, 0.8875    , 0.89552239, 1.39215686,\n",
              "        0.68539326, 1.16438356, 1.16      , 0.79220779, 1.01111111,\n",
              "        0.88405797, 0.64210526, 0.8961039 , 0.90277778, 0.63333333,\n",
              "        1.14634146, 1.27419355, 1.17647059, 1.14285714, 1.21875   ,\n",
              "        1.05882353, 0.85507246, 0.87096774, 0.85074627, 0.94949495,\n",
              "        0.60416667, 0.98765432, 0.71428571, 0.90625   , 0.80681818]),\n",
              " 7561.0)"
            ]
          },
          "metadata": {},
          "execution_count": 18
        }
      ]
    },
    {
      "cell_type": "markdown",
      "source": [
        "Q13. Create an array of 20 equidistant numbers between 1 and 99 and call it x."
      ],
      "metadata": {
        "id": "oILgkTIdVqw5"
      }
    },
    {
      "cell_type": "code",
      "source": [
        "x = np.linspace(1, 99, 20)\n",
        "print(\"Array x:\")\n",
        "print(x)"
      ],
      "metadata": {
        "colab": {
          "base_uri": "https://localhost:8080/"
        },
        "id": "n4DxndyiA1H9",
        "outputId": "e6a551d1-d23f-41a0-da8d-957d829f43b9"
      },
      "execution_count": 19,
      "outputs": [
        {
          "output_type": "stream",
          "name": "stdout",
          "text": [
            "Array x:\n",
            "[ 1.          6.15789474 11.31578947 16.47368421 21.63157895 26.78947368\n",
            " 31.94736842 37.10526316 42.26315789 47.42105263 52.57894737 57.73684211\n",
            " 62.89473684 68.05263158 73.21052632 78.36842105 83.52631579 88.68421053\n",
            " 93.84210526 99.        ]\n"
          ]
        }
      ]
    },
    {
      "cell_type": "markdown",
      "source": [
        "Q14.\n",
        "- Compute sin(x), cos(x), tan(x), and the square of sin and cos functions.\n",
        "\n",
        "- add the x, and the computed values to a dataframe.\n",
        "\n",
        "- and save the output to a csv file."
      ],
      "metadata": {
        "id": "uvxFS7R8V4dK"
      }
    },
    {
      "cell_type": "code",
      "source": [
        "sin_values = np.sin(x)\n",
        "cos_values = np.cos(x)\n",
        "tan_values = np.tan(x)\n",
        "sin_squared = np.square(sin_values)\n",
        "cos_squared = np.square(cos_values)\n",
        "data = {'x': x, 'sin(x)': sin_values, 'cos(x)': cos_values, 'tan(x)': tan_values, 'sin^2(x)': sin_squared, 'cos^2(x)': cos_squared}\n",
        "df = pd.DataFrame(data)\n",
        "df.to_csv('trigonometric_functions_output.csv', index=False)\n",
        "print(\"DataFrame:\")\n",
        "print(df)"
      ],
      "metadata": {
        "id": "FsPXp3i5meFL",
        "colab": {
          "base_uri": "https://localhost:8080/"
        },
        "outputId": "bc56a541-6f92-48b1-8c49-121efbb7dca0"
      },
      "execution_count": 20,
      "outputs": [
        {
          "output_type": "stream",
          "name": "stdout",
          "text": [
            "DataFrame:\n",
            "            x    sin(x)    cos(x)     tan(x)  sin^2(x)  cos^2(x)\n",
            "0    1.000000  0.841471  0.540302   1.557408  0.708073  0.291927\n",
            "1    6.157895 -0.124963  0.992161  -0.125950  0.015616  0.984384\n",
            "2   11.315789 -0.949168  0.314771  -3.015425  0.900919  0.099081\n",
            "3   16.473684 -0.693057 -0.720883   0.961400  0.480328  0.519672\n",
            "4   21.631579  0.351871 -0.936048  -0.375912  0.123813  0.876187\n",
            "5   26.789474  0.996310 -0.085830 -11.607890  0.992633  0.007367\n",
            "6   31.947368  0.506777  0.862077   0.587856  0.256823  0.743177\n",
            "7   37.105263 -0.559555  0.828793  -0.675144  0.313102  0.686898\n",
            "8   42.263158 -0.989017 -0.147799   6.691617  0.978155  0.021845\n",
            "9   47.421053 -0.292809 -0.956171   0.306230  0.085737  0.914263\n",
            "10  52.578947  0.736667 -0.676256  -1.089331  0.542678  0.457322\n",
            "11  57.736842  0.927689  0.373354   2.484743  0.860607  0.139393\n",
            "12  62.894737  0.062842  0.998023   0.062967  0.003949  0.996051\n",
            "13  68.052632 -0.873530  0.486771  -1.794539  0.763054  0.236946\n",
            "14  73.210526 -0.815675 -0.578510   1.409958  0.665326  0.334674\n",
            "15  78.368421  0.170557 -0.985348  -0.173094  0.029090  0.970910\n",
            "16  83.526316  0.962666 -0.270691  -3.556333  0.926727  0.073273\n",
            "17  88.684211  0.659096  0.752059   0.876389  0.434408  0.565592\n",
            "18  93.842105 -0.394638  0.918836  -0.429498  0.155740  0.844260\n",
            "19  99.000000 -0.999207  0.039821 -25.092535  0.998414  0.001586\n"
          ]
        }
      ]
    },
    {
      "cell_type": "markdown",
      "source": [
        "---"
      ],
      "metadata": {
        "id": "s8VytuBecDQE"
      }
    },
    {
      "cell_type": "markdown",
      "source": [
        "# **Section 3**"
      ],
      "metadata": {
        "id": "iBVAaGUvbB1E"
      }
    },
    {
      "cell_type": "markdown",
      "source": [
        "Q16. Write a Python program that takes a list of numbers as input from the user and calculates the sum of all the numbers in the list. Display the final sum as output."
      ],
      "metadata": {
        "id": "54wmue9_bRYs"
      }
    },
    {
      "cell_type": "code",
      "source": [
        "user_input = input(\"Enter a list of numbers separated by spaces: \")\n",
        "numbers = [int(x) for x in user_input.split()]\n",
        "sum_of_numbers = sum(numbers)\n",
        "print(\"Sum of the numbers:\", sum_of_numbers)\n"
      ],
      "metadata": {
        "colab": {
          "base_uri": "https://localhost:8080/"
        },
        "id": "Wz_gll2QCADR",
        "outputId": "76aa62ac-6cfe-45b7-9685-d2fe9a5bef78"
      },
      "execution_count": null,
      "outputs": [
        {
          "output_type": "stream",
          "name": "stdout",
          "text": [
            "Enter a list of numbers separated by spaces: 8 6 9 7 5 3 2 1 4\n",
            "Sum of the numbers: 45\n"
          ]
        }
      ]
    },
    {
      "cell_type": "markdown",
      "source": [
        "Q17. Write a Python program that takes a list of words as input from the user and does the following:\n",
        "\n",
        "- Removes the first and last elements from the list.\n",
        "- Adds two new words at the beginning and end of the list: \"Hello\" and \"World\". (Hint : Other than append there is another method to add to a list)\n",
        "- Slice the list to only the 3rd to 5th word from the list."
      ],
      "metadata": {
        "id": "WppqogDnb5ab"
      }
    },
    {
      "cell_type": "code",
      "source": [
        "def process_words():\n",
        "    # Take input from the user as a list of words\n",
        "    words = input(\"Enter a list of words separated by spaces: \").split()\n",
        "\n",
        "    # Remove the first and last elements from the list\n",
        "    if len(words) > 1:\n",
        "        words = words[1:-1]\n",
        "    elif len(words) == 1:\n",
        "        words = []\n",
        "\n",
        "    # Add \"Hello\" at the beginning and \"World\" at the end\n",
        "    words.insert(0, \"Hello\")\n",
        "    words.append(\"World\")\n",
        "\n",
        "    # Slice the list to only include the 3rd to 5th words\n",
        "    sliced_words = words[2:5] if len(words) > 2 else []\n",
        "\n",
        "    # Print the final lists\n",
        "    print(\"Modified list:\", words)\n",
        "    print(\"Sliced list (3rd to 5th words):\", sliced_words)\n",
        "\n",
        "# Call the function\n",
        "process_words()\n"
      ],
      "metadata": {
        "id": "vXKVn32Bmbb8",
        "colab": {
          "base_uri": "https://localhost:8080/"
        },
        "outputId": "b93c1ccb-3c3e-4b98-817a-547a998558c0"
      },
      "execution_count": 21,
      "outputs": [
        {
          "output_type": "stream",
          "name": "stdout",
          "text": [
            "Enter a list of words separated by spaces: Rai Mou Tina Yash\n",
            "Modified list: ['Hello', 'Mou', 'Tina', 'World']\n",
            "Sliced list (3rd to 5th words): ['Tina', 'World']\n"
          ]
        }
      ]
    },
    {
      "cell_type": "markdown",
      "source": [
        "Q18. Write a Python program that takes a string as input from the user and counts the number of vowels (a, e, i, o, u) present in the string. Display the vowel count as output."
      ],
      "metadata": {
        "id": "mtr4f6HLejAz"
      }
    },
    {
      "cell_type": "code",
      "source": [
        "input_string = input(\"Enter a string: \")\n",
        "vowel_count = 0\n",
        "vowels = set(\"aeiou\")\n",
        "for char in input_string:\n",
        "    if char in vowels:\n",
        "        vowel_count += 1\n",
        "print(\"Number of vowels in the string:\", vowel_count)\n"
      ],
      "metadata": {
        "id": "-IMFjSLAmbAj",
        "colab": {
          "base_uri": "https://localhost:8080/"
        },
        "outputId": "6b9e8370-11f8-4421-c79b-df47ddaf5d8c"
      },
      "execution_count": null,
      "outputs": [
        {
          "output_type": "stream",
          "name": "stdout",
          "text": [
            "Enter a string: Yashaswi Santra\n",
            "Number of vowels in the string: 5\n"
          ]
        }
      ]
    },
    {
      "cell_type": "markdown",
      "source": [
        "Q19. Write a Python program that takes two strings as input from the user and then concatenates them together to form a new string with a space inbetween.\n",
        "\n",
        "Display the\n",
        "- size of the two new strings\n",
        "- concatenated string as output\n",
        "- and count the new size."
      ],
      "metadata": {
        "id": "8jtkGUnXgmsX"
      }
    },
    {
      "cell_type": "code",
      "source": [
        "string1 = input(\"Enter the first string: \")\n",
        "string2 = input(\"Enter the second string: \")\n",
        "concatenated_string = string1 + ' ' + string2\n",
        "size_string1 = len(string1)\n",
        "size_string2 = len(string2)\n",
        "print(\"\\nConcatenated String:\")\n",
        "print(concatenated_string)\n",
        "size_concatenated_string = len(concatenated_string)\n",
        "print(f\"\\nSize of {string1}: {size_string1} characters\")\n",
        "print(f\"Size of {string2}: {size_string2} characters\")\n",
        "print(f\"Size of Concatenated String: {size_concatenated_string} characters\")\n"
      ],
      "metadata": {
        "colab": {
          "base_uri": "https://localhost:8080/"
        },
        "id": "X0LfYzkqH2X9",
        "outputId": "a18b38cb-864f-465e-c6dd-4cc351c9fb94"
      },
      "execution_count": null,
      "outputs": [
        {
          "output_type": "stream",
          "name": "stdout",
          "text": [
            "Enter the first string: hello\n",
            "Enter the second string: world\n",
            "\n",
            "Concatenated String:\n",
            "hello world\n",
            "\n",
            "Size of hello: 5 characters\n",
            "Size of world: 5 characters\n",
            "Size of Concatenated String: 11 characters\n"
          ]
        }
      ]
    },
    {
      "cell_type": "markdown",
      "source": [
        "Q20. Write a Python program that allows a teacher to input the names and grades of three students. The program should then create a dictionary where each student's name is a key and their grade is the corresponding value. Finally, display the complete student grades dictionary."
      ],
      "metadata": {
        "id": "wrbv-Dtvh_xE"
      }
    },
    {
      "cell_type": "code",
      "source": [
        "student_grades = {}\n",
        "for i in range(3):\n",
        "    student_name = input(f\"Enter the name of student {i + 1}: \")\n",
        "    student_grade = input(f\"Enter the grade of {student_name}: \")\n",
        "    student_grades[student_name] = float(student_grade)\n",
        "print(\"\\nStudent Grades Dictionary:\")\n",
        "print(student_grades)\n"
      ],
      "metadata": {
        "colab": {
          "base_uri": "https://localhost:8080/"
        },
        "id": "-HG1fp7bIImP",
        "outputId": "41b5bf4b-1cf2-4cb0-8d62-ee61f49f6f50"
      },
      "execution_count": null,
      "outputs": [
        {
          "output_type": "stream",
          "name": "stdout",
          "text": [
            "Enter the name of student 1: Ayan\n",
            "Enter the grade of Ayan: 80\n",
            "Enter the name of student 2: Bani\n",
            "Enter the grade of Bani: 75\n",
            "Enter the name of student 3: Dev\n",
            "Enter the grade of Dev: 98\n",
            "\n",
            "Student Grades Dictionary:\n",
            "{'Ayan': 80.0, 'Bani': 75.0, 'Dev': 98.0}\n"
          ]
        }
      ]
    }
  ]
}